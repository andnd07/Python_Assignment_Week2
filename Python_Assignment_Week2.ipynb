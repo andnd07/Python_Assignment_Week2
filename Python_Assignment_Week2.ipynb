{
  "nbformat": 4,
  "nbformat_minor": 0,
  "metadata": {
    "colab": {
      "provenance": []
    },
    "kernelspec": {
      "name": "python3",
      "display_name": "Python 3"
    },
    "language_info": {
      "name": "python"
    }
  },
  "cells": [
    {
      "cell_type": "markdown",
      "source": [
        "# **Theoretical Answer**"
      ],
      "metadata": {
        "id": "hsaGSgjf2E_B"
      }
    },
    {
      "cell_type": "markdown",
      "source": [
        "**1. What are the data strctures, and why are they important?**  \n",
        "\n",
        "\n",
        "-  Data structures are ways of organizing and storing data in a computer so it can be used efficiently.\n",
        "- They are important because they make programs faster, save memory, and help solve complex real-world problems like searching, routing, and scheduling.\n"
      ],
      "metadata": {
        "id": "kRO_0Rb25XGC"
      }
    },
    {
      "cell_type": "markdown",
      "source": [
        "**2. Explain the difference between mutable and immutable data types with examples.**\n",
        "\n",
        "- Mutable data types can be modified after creation, like lists and dictionaries. Immutable data types cannot be changed once created, like strings, tuples, and integers. If you try to modify an immutable type, Python creates a new object instead."
      ],
      "metadata": {
        "id": "68vcQcBz_VNq"
      }
    },
    {
      "cell_type": "code",
      "source": [
        "# Mutable\n",
        "\n",
        "my_list = [1, 2, 3]\n",
        "print(my_list)\n",
        "\n",
        "my_list[0] = 100\n",
        "print(my_list)\n"
      ],
      "metadata": {
        "id": "27UC37HDAX1k"
      },
      "execution_count": null,
      "outputs": []
    },
    {
      "cell_type": "code",
      "source": [
        "# Immutable\n",
        "\n",
        "my_tuple = (10, 20, 30)\n",
        "print(my_tuple[0])\n",
        "\n",
        "my_tuple[0] = 100"
      ],
      "metadata": {
        "id": "Gl4rnOnMAp6F"
      },
      "execution_count": null,
      "outputs": []
    },
    {
      "cell_type": "markdown",
      "source": [
        "**3. What are the main differences between lists and tuples in Python?**\n",
        "\n",
        "- In Python, lists and tuples are both used to store collections of data, but they are different in some important ways. The main difference is that lists are mutable, meaning their elements can be changed, added, or removed after the list is created. Tuples, on the other hand, are immutable, so once a tuple is created, its values cannot be modified. Lists are written using square brackets, for example [1, 2, 3], while tuples are written using round brackets, such as (1, 2, 3). Because tuples cannot change, they are generally faster and are often used to store fixed data like the days of the week, whereas lists are more flexible and are used when the data may need to be updated, like items in a shopping cart."
      ],
      "metadata": {
        "id": "CJqSDrL0ELnD"
      }
    },
    {
      "cell_type": "markdown",
      "source": [
        "**4. Describe how dictionary store data.**\n",
        "- A dictionary stores data in the form of key–value pairs. Each item has a unique key that acts like a name or label, and a value that holds the actual data. For example, in {\"name\": \"Anand\", \"age\": 25}, \"name\" and \"age\" are keys, while \"Anand\" and 25 are their values. Dictionaries use curly brackets {} and allow fast access to data because you can directly find a value by using its key, just like searching a contact by name in your phone."
      ],
      "metadata": {
        "id": "f-gF3faCY9vk"
      }
    },
    {
      "cell_type": "markdown",
      "source": [
        "**5. Why might you use a set instead of list in Python?**\n",
        "- you might use a set instead of a list when you want to store unique items only and do not care about the order of elements. A set automatically removes duplicates, while a list can have repeated values. Sets are also faster than lists for checking membership (for example, testing if an item exists in the collection). For example, if you want to keep track of unique student IDs or unique words in a sentence, a set is more useful than a list."
      ],
      "metadata": {
        "id": "vrYtbK-1ZI0O"
      }
    },
    {
      "cell_type": "markdown",
      "source": [
        "**6. What is a string in Python, how is it difficult from a list?**\n",
        "- A string is a sequence of characters enclosed in single quotes ('...'), double quotes (\"...\"), or triple quotes ('''...''' or \"\"\"...\"\"\"). For example, \"Hello\" is a string. A string is different from a list because strings are immutable, meaning their contents cannot be changed once created, while lists are mutable and allow modification like adding, removing, or updating elements. Also, strings specifically store text characters, whereas lists can store different types of data such as numbers, strings, or even other lists."
      ],
      "metadata": {
        "id": "MldDnczUZf2M"
      }
    },
    {
      "cell_type": "markdown",
      "source": [
        "**7. How do tuples ensure data integrity inn Python?**\n",
        "- Tuples in Python ensure data integrity because they are immutable, meaning their elements cannot be changed, added, or removed after the tuple is created. This immutability protects the data from accidental modification, making tuples a safe choice when you want information to stay constant. For example, fixed data like coordinates (x, y) or days of the week should not be altered, so using a tuple helps to maintain accuracy and reliability of the data."
      ],
      "metadata": {
        "id": "eWQoKGmYZ4au"
      }
    },
    {
      "cell_type": "markdown",
      "source": [
        "**8. What is a hash table, and how does it relate to dictionaries in Python?**\n",
        "\n",
        "- A hash table is a data structure that stores data in key–value pairs and allows very fast access to values by using a key. It works by applying a hash function to the key, which generates a unique index where the value is stored. This makes searching, inserting, and deleting data much faster compared to searching through a list. In Python, dictionaries are built on top of hash tables. When you use a dictionary and look up a value using its key, Python internally uses hashing to quickly find the location of that value in memory."
      ],
      "metadata": {
        "id": "dhMhGOO6aWVO"
      }
    },
    {
      "cell_type": "markdown",
      "source": [
        "**9. Can list contain different data type in Python?**\n",
        "\n",
        "- Yes, in Python, a list can contain different data types in the same list. For example, a single list can hold integers, strings, floats, or even other lists. For instance, [10, \"Anand\", 3.14, [1, 2]] is a valid Python list. This flexibility makes lists very useful for storing collections of mixed data, unlike some other languages where a list (or array) usually has to contain the same type of elements."
      ],
      "metadata": {
        "id": "MU9sGm83a-Xo"
      }
    },
    {
      "cell_type": "markdown",
      "source": [
        "**10. Explain why strings are immutable in Python.**\n",
        "\n",
        "- Strings are immutable in Python, which means that once a string is created, its characters cannot be changed. This design helps protect the data, ensures consistency, and allows Python to optimize memory usage and performance. For example, when you try to change a character in a string, Python does not modify the original string but instead creates a new string. This immutability makes strings safe to use as keys in dictionaries or elements in sets, where the data must remain constant.\n"
      ],
      "metadata": {
        "id": "j1qlaWStbP-f"
      }
    },
    {
      "cell_type": "markdown",
      "source": [
        "**11. What advantages do dictionaries after over lists for certain tasks?**\n",
        "\n",
        "- Dictionaries have several advantages over lists for certain tasks because they store data in key–value pairs. Unlike lists, where you have to search through elements one by one, dictionaries allow fast access to values using keys, making lookups much quicker. They also ensure that each key is unique, which helps avoid duplicates when storing data like phone numbers, student IDs, or configuration settings. This makes dictionaries more efficient and convenient than lists when you need quick search, update, or retrieval of data based on a specific identifier."
      ],
      "metadata": {
        "id": "ORXkrznnbulN"
      }
    },
    {
      "cell_type": "markdown",
      "source": [
        "**12. Describe a scenario where using a tuple would be preferable over a list.**\n",
        "\n",
        "- A tuple would be preferable over a list in scenarios where the data should remain constant and not be changed. For example, if you are storing the coordinates of a point (x, y) in a program, or the days of the week, you do not want these values to be accidentally modified. Using a tuple ensures data integrity because it is immutable, unlike a list which can be changed. This makes tuples ideal for storing fixed collections of related data that should stay safe throughout the program.\n"
      ],
      "metadata": {
        "id": "aXMKZy7AcIQj"
      }
    },
    {
      "cell_type": "markdown",
      "source": [
        "**13. How do sets handle duplicates values in Python?**\n",
        "- sets do not allow duplicate values. If you try to add the same value more than once, the set will automatically keep only one copy of that value. For example, if you create a set with {1, 2, 2, 3}, Python will store it as {1, 2, 3}. This makes sets useful when you want to keep only unique items in a collection."
      ],
      "metadata": {
        "id": "89qhAR2kcqFz"
      }
    },
    {
      "cell_type": "markdown",
      "source": [
        "**14. How does the \"in\" Keyword work differently for list and dictionaries?**\n",
        "\n",
        "- In Python, the in keyword is used to check whether an item exists in a collection, but it works slightly differently for lists and dictionaries. For a list, in checks if a value exists anywhere in the list. For example, 3 in [1, 2, 3] returns True. In a dictionary, in only checks the keys, not the values. For example, if my_dict = {\"a\": 10, \"b\": 20}, then \"a\" in my_dict returns True, but 10 in my_dict returns False. This difference is important to remember when working with dictionaries."
      ],
      "metadata": {
        "id": "J5eIhRq0c1zv"
      }
    },
    {
      "cell_type": "markdown",
      "source": [
        "**15. Can u modify the elements of a tuple? Explain why or why not?**\n",
        "- No, you cannot modify the elements of a tuple in Python because tuples are immutable. This means that once a tuple is created, its elements cannot be changed, added, or removed.\n",
        "\n",
        "  For example, if you have my_tuple = (1, 2, 3), you cannot do my_tuple[0] = 10, as it will give an error. Tuples are made this way to ensure the data inside them stays fixed and safe, which is useful when you want to store constant data that should not be changed accidentally."
      ],
      "metadata": {
        "id": "lGlM5jR5dUf9"
      }
    },
    {
      "cell_type": "markdown",
      "source": [
        "**16. What is a nested dictionary, and give an example of its use case?**\n",
        "- A nested dictionary in Python means having a dictionary inside another dictionary. In other words, the value of a key can itself be another dictionary. This is useful when you want to store complex or structured data in a clear way.\n",
        "\n",
        "    For example, if you are storing student information, you can use a nested dictionary like this:"
      ],
      "metadata": {
        "id": "Y-AkKGG4eF9h"
      }
    },
    {
      "cell_type": "code",
      "source": [
        "students = {\n",
        "    \"student1\": {\"name\": \"Anand\", \"age\": 25, \"course\": \"Python\"},\n",
        "    \"student2\": {\"name\": \"Rakesh\", \"age\": 24, \"course\": \"Data Science\"}\n",
        "}\n",
        "\n",
        "print(students[\"student1\"][\"name\"])  # Output: Anand\n"
      ],
      "metadata": {
        "colab": {
          "base_uri": "https://localhost:8080/"
        },
        "id": "c42UkydIG6wi",
        "outputId": "6517416c-f896-4886-e83c-708e2ae39139"
      },
      "execution_count": null,
      "outputs": [
        {
          "output_type": "stream",
          "name": "stdout",
          "text": [
            "Anand\n"
          ]
        }
      ]
    },
    {
      "cell_type": "markdown",
      "source": [
        "**17. Describe the time complexity of accessing elements in a dictionary.**\n",
        "- The time complexity of accessing elements in a dictionary is generally O(1), which means constant time. This happens because dictionaries in Python are implemented using a data structure called a hash table, where each key is mapped to a unique location in memory. As a result, retrieving the value for a key does not depend on the size of the dictionary. However, in rare cases such as hash collisions, the performance may degrade, but on average, dictionary lookups are still considered O(1)."
      ],
      "metadata": {
        "id": "fQumWWavelu1"
      }
    },
    {
      "cell_type": "markdown",
      "source": [
        "**18. In what situations are lists preferred over dictionaries?**\n",
        "- Lists are preferred over dictionaries when the order of elements matters or when you need to access data by its position (index) instead of a key. They are also useful when storing simple collections of items like numbers, names, or objects where you don’t need to assign labels. Lists are better when you expect to have duplicate values or when the data does not naturally map to key–value pairs. In short, lists are ideal for ordered, sequential data where indexing is more important than key-based retrieval."
      ],
      "metadata": {
        "id": "c9qqgAPaJ7Y_"
      }
    },
    {
      "cell_type": "markdown",
      "source": [
        "**19. Why are dictionaries considered unordered, and how doest that affect data retrieval.**\n",
        "- Dictionaries in Python are considered unordered because the elements inside them are stored as key–value pairs without following a fixed sequence like lists or tuples. This means that the items do not have a specific position or index number that you can rely on. Instead, dictionaries are designed for fast lookups, and you retrieve data using the key directly, not the order of insertion. The lack of order does not affect data retrieval, because as long as you know the key, you can access its value instantly. However, you cannot access dictionary elements by position, only by their keys."
      ],
      "metadata": {
        "id": "jwlFXr-cKO-K"
      }
    },
    {
      "cell_type": "markdown",
      "source": [
        "**20. Explain the different between a list and a dictionary in terms of data retrieval.**\n",
        "\n",
        "- The main difference between a list and a dictionary in terms of data retrieval is the way elements are accessed. In a list, elements are retrieved by using their index number, which represents their position in the sequence. This means you must know the element’s position to access it. On the other hand, in a dictionary, elements are stored as key–value pairs, and data is retrieved using the key instead of the position. This makes dictionary lookups faster and more meaningful, as you can access values directly by their keys."
      ],
      "metadata": {
        "id": "YgJDVIBOKw0y"
      }
    },
    {
      "cell_type": "markdown",
      "source": [
        "## **Practical Questions**"
      ],
      "metadata": {
        "id": "xCaNpJCbNqQc"
      }
    },
    {
      "cell_type": "markdown",
      "source": [
        "**1. Write a code to create a string with your name and print it.**"
      ],
      "metadata": {
        "id": "X38ZjT1eN4h2"
      }
    },
    {
      "cell_type": "code",
      "source": [
        "name = \"Anand\"\n",
        "print(name)"
      ],
      "metadata": {
        "colab": {
          "base_uri": "https://localhost:8080/"
        },
        "id": "H6UK2kISOJ1V",
        "outputId": "9cfa8a83-857c-47b6-d2c0-99f5ce4f5835"
      },
      "execution_count": null,
      "outputs": [
        {
          "output_type": "stream",
          "name": "stdout",
          "text": [
            "Anand\n"
          ]
        }
      ]
    },
    {
      "cell_type": "markdown",
      "source": [
        "**2. Write a code to find the length of the string \"Hello World\".**"
      ],
      "metadata": {
        "id": "Bep24L8dOV6c"
      }
    },
    {
      "cell_type": "code",
      "source": [
        "n = \"Hello World\"\n",
        "\n",
        "len(n)"
      ],
      "metadata": {
        "colab": {
          "base_uri": "https://localhost:8080/"
        },
        "id": "TrwIFnOzOPJy",
        "outputId": "06ebb6a2-ebfe-4f47-fd13-de28d05b1e68"
      },
      "execution_count": null,
      "outputs": [
        {
          "output_type": "execute_result",
          "data": {
            "text/plain": [
              "11"
            ]
          },
          "metadata": {},
          "execution_count": 37
        }
      ]
    },
    {
      "cell_type": "markdown",
      "source": [
        "**3. Write a code to slice the first 3 characters from the string \"Python Programming\".**"
      ],
      "metadata": {
        "id": "essHoOxNPPHU"
      }
    },
    {
      "cell_type": "code",
      "source": [
        "characters = \"Python Programming\"\n",
        "characters[0:3]\n",
        "\n",
        "\"\"\"sliced_text = characters[0:3]    = Optional\n",
        "print(sliced_text)\"\"\""
      ],
      "metadata": {
        "colab": {
          "base_uri": "https://localhost:8080/",
          "height": 35
        },
        "id": "um5ProiDPFSw",
        "outputId": "9430d2d2-bfc5-4575-a963-c2ac9e768cc7"
      },
      "execution_count": null,
      "outputs": [
        {
          "output_type": "execute_result",
          "data": {
            "text/plain": [
              "'sliced_text = characters[0:3]    = Optional \\nprint(sliced_text)'"
            ],
            "application/vnd.google.colaboratory.intrinsic+json": {
              "type": "string"
            }
          },
          "metadata": {},
          "execution_count": 38
        }
      ]
    },
    {
      "cell_type": "markdown",
      "source": [
        "**4. Write a code to covert the string \"Hello\" to uppercase.**"
      ],
      "metadata": {
        "id": "_nR5uUilPoQs"
      }
    },
    {
      "cell_type": "code",
      "source": [
        "code = \"Hello\"\n",
        "code.upper()"
      ],
      "metadata": {
        "colab": {
          "base_uri": "https://localhost:8080/",
          "height": 35
        },
        "id": "xYASeGD3R1xq",
        "outputId": "490d9506-40be-4b91-e33f-09157f204dd9"
      },
      "execution_count": null,
      "outputs": [
        {
          "output_type": "execute_result",
          "data": {
            "text/plain": [
              "'HELLO'"
            ],
            "application/vnd.google.colaboratory.intrinsic+json": {
              "type": "string"
            }
          },
          "metadata": {},
          "execution_count": 39
        }
      ]
    },
    {
      "cell_type": "markdown",
      "source": [
        "**5. Write a code to replace the word \"apple\" with \"orange\" in the string \"I like apple\".**"
      ],
      "metadata": {
        "id": "HS5eEf_kSAEA"
      }
    },
    {
      "cell_type": "code",
      "source": [
        "fruit = \"I like apple\"\n",
        "fruit.replace(\"apple\", \"orange\")"
      ],
      "metadata": {
        "colab": {
          "base_uri": "https://localhost:8080/",
          "height": 35
        },
        "id": "vj47pJVfR-cI",
        "outputId": "5363f51c-7773-4abe-f8dd-f85e2314f8bf"
      },
      "execution_count": null,
      "outputs": [
        {
          "output_type": "execute_result",
          "data": {
            "text/plain": [
              "'I like orange'"
            ],
            "application/vnd.google.colaboratory.intrinsic+json": {
              "type": "string"
            }
          },
          "metadata": {},
          "execution_count": 40
        }
      ]
    },
    {
      "cell_type": "markdown",
      "source": [
        "**6. Write a code to create a list with numbers 1 to 5 and print it.**"
      ],
      "metadata": {
        "id": "WVJQYX4gTpRx"
      }
    },
    {
      "cell_type": "code",
      "source": [
        "num = [1, 2, 3, 4, 5]\n",
        "print(f\"List = {num}\")"
      ],
      "metadata": {
        "colab": {
          "base_uri": "https://localhost:8080/"
        },
        "id": "_qoiKKtrSqnn",
        "outputId": "f7d6b20f-5dfe-4e3f-b93e-0609e25b3ed2"
      },
      "execution_count": null,
      "outputs": [
        {
          "output_type": "stream",
          "name": "stdout",
          "text": [
            "List = [1, 2, 3, 4, 5]\n"
          ]
        }
      ]
    },
    {
      "cell_type": "markdown",
      "source": [
        "**7. Write a code to append the number 10 the list [1, 2, 3, 4].**"
      ],
      "metadata": {
        "id": "PfI-1LekU7ji"
      }
    },
    {
      "cell_type": "code",
      "source": [
        "numbers = [1, 2, 3, 4]\n",
        "numbers.append(10)\n",
        "print(numbers)"
      ],
      "metadata": {
        "colab": {
          "base_uri": "https://localhost:8080/"
        },
        "id": "nezhtFAYUMSM",
        "outputId": "e3bd7155-0cb5-4f3b-acf0-79e0102c68be"
      },
      "execution_count": null,
      "outputs": [
        {
          "output_type": "stream",
          "name": "stdout",
          "text": [
            "[1, 2, 3, 4, 10]\n"
          ]
        }
      ]
    },
    {
      "cell_type": "markdown",
      "source": [
        "**8. Write a code to remove the number 3 from the list [1, 2, 3, 4, 5].**"
      ],
      "metadata": {
        "id": "N9we_2iFVVlZ"
      }
    },
    {
      "cell_type": "code",
      "source": [
        "veriable = [1, 2, 3, 4, 5]\n",
        "veriable.remove(3)\n",
        "print(f\"The number 3 removed {veriable}\")"
      ],
      "metadata": {
        "colab": {
          "base_uri": "https://localhost:8080/"
        },
        "id": "__P2838TVFlP",
        "outputId": "143aea6e-56da-4238-f09c-dae32a62619a"
      },
      "execution_count": null,
      "outputs": [
        {
          "output_type": "stream",
          "name": "stdout",
          "text": [
            "The number 3 removed [1, 2, 4, 5]\n"
          ]
        }
      ]
    },
    {
      "cell_type": "markdown",
      "source": [
        "**9. Write a code to access the second element in the list [\"a', \"b\", \"c\", \"d\"]**"
      ],
      "metadata": {
        "id": "D7Xv-HwqWSDi"
      }
    },
    {
      "cell_type": "code",
      "source": [
        "elements = [\"a\", \"b\", \"c\", \"d\"]\n",
        "elements[1]"
      ],
      "metadata": {
        "colab": {
          "base_uri": "https://localhost:8080/",
          "height": 35
        },
        "id": "VHbXWCe_V3KF",
        "outputId": "ebe8afee-ed9f-464b-a2ba-2f2b966478ff"
      },
      "execution_count": null,
      "outputs": [
        {
          "output_type": "execute_result",
          "data": {
            "text/plain": [
              "'b'"
            ],
            "application/vnd.google.colaboratory.intrinsic+json": {
              "type": "string"
            }
          },
          "metadata": {},
          "execution_count": 44
        }
      ]
    },
    {
      "cell_type": "code",
      "source": [
        "# Optional way\n",
        "\n",
        "elements = [\"a\", \"b\", \"c\", \"d\"]\n",
        "\n",
        "second_elements = elements[1]\n",
        "print(second_elements)"
      ],
      "metadata": {
        "colab": {
          "base_uri": "https://localhost:8080/"
        },
        "id": "WRZJnqmcXCel",
        "outputId": "c5579097-ce94-48b9-fcc8-9842324a3236"
      },
      "execution_count": null,
      "outputs": [
        {
          "output_type": "stream",
          "name": "stdout",
          "text": [
            "b\n"
          ]
        }
      ]
    },
    {
      "cell_type": "markdown",
      "source": [
        "**10. Write a code to reverse the list [10, 20, 39, 40, 50].**"
      ],
      "metadata": {
        "id": "UmkgEV6jYUoB"
      }
    },
    {
      "cell_type": "code",
      "source": [
        "num1 = [10, 20, 39, 40, 50]\n",
        "\n",
        "num1.reverse()\n",
        "num1"
      ],
      "metadata": {
        "colab": {
          "base_uri": "https://localhost:8080/"
        },
        "id": "z74g3PR0YqJq",
        "outputId": "5be1d10d-2b94-487b-8c50-f7a4dcdbfc8f"
      },
      "execution_count": null,
      "outputs": [
        {
          "output_type": "execute_result",
          "data": {
            "text/plain": [
              "[50, 40, 39, 20, 10]"
            ]
          },
          "metadata": {},
          "execution_count": 46
        }
      ]
    },
    {
      "cell_type": "code",
      "source": [
        "# Optional\n",
        "\n",
        "i = 5\n",
        "\n",
        "while i >= 1:\n",
        "  print(i * 10)\n",
        "  i -= 1\n"
      ],
      "metadata": {
        "colab": {
          "base_uri": "https://localhost:8080/"
        },
        "id": "dFAhlniYYJMJ",
        "outputId": "416ded28-8de4-4469-b463-126ac5593ee0"
      },
      "execution_count": null,
      "outputs": [
        {
          "output_type": "stream",
          "name": "stdout",
          "text": [
            "50\n",
            "40\n",
            "30\n",
            "20\n",
            "10\n"
          ]
        }
      ]
    },
    {
      "cell_type": "markdown",
      "source": [
        "**11. Write a code to create a tuple with the elements 100, 200, 300 and print it.**"
      ],
      "metadata": {
        "id": "-_3YyTU1a1Zd"
      }
    },
    {
      "cell_type": "code",
      "source": [
        "tuple1 = (100, 200, 300)\n",
        "print(tuple1)"
      ],
      "metadata": {
        "colab": {
          "base_uri": "https://localhost:8080/"
        },
        "id": "AhYilB6DZeTZ",
        "outputId": "ee3754c7-5f5b-4464-8424-30de95df9568"
      },
      "execution_count": null,
      "outputs": [
        {
          "output_type": "stream",
          "name": "stdout",
          "text": [
            "(100, 200, 300)\n"
          ]
        }
      ]
    },
    {
      "cell_type": "markdown",
      "source": [
        "**12. Write a code to access the second-to-last elemennt of the tuple (\"red\", \"green\", \"blue\", yellow\").**"
      ],
      "metadata": {
        "id": "smtx5o4SbKeM"
      }
    },
    {
      "cell_type": "code",
      "source": [
        "colours = (\"red\", \"green\", \"blue\", \"yellow\")\n",
        "colours[-2]\n"
      ],
      "metadata": {
        "colab": {
          "base_uri": "https://localhost:8080/",
          "height": 35
        },
        "id": "1zoz6q14bCUN",
        "outputId": "5c679027-0dd8-4a14-8d0e-f0993d956d3c"
      },
      "execution_count": null,
      "outputs": [
        {
          "output_type": "execute_result",
          "data": {
            "text/plain": [
              "'blue'"
            ],
            "application/vnd.google.colaboratory.intrinsic+json": {
              "type": "string"
            }
          },
          "metadata": {},
          "execution_count": 50
        }
      ]
    },
    {
      "cell_type": "markdown",
      "source": [
        "**13. Write a code to find the minimum number in the tuple (10, 20, 5, 15).**"
      ],
      "metadata": {
        "id": "s15S4tmhg9WQ"
      }
    },
    {
      "cell_type": "code",
      "source": [
        "num = (10, 20, 5, 15)\n",
        "min(num)\n"
      ],
      "metadata": {
        "colab": {
          "base_uri": "https://localhost:8080/"
        },
        "id": "HXCLoF3BghCh",
        "outputId": "21296dd6-6887-4f69-f87e-e0ab704ae924"
      },
      "execution_count": null,
      "outputs": [
        {
          "output_type": "execute_result",
          "data": {
            "text/plain": [
              "5"
            ]
          },
          "metadata": {},
          "execution_count": 58
        }
      ]
    },
    {
      "cell_type": "code",
      "source": [
        "# Optional\n",
        "\n",
        "num = (10, 20, 5, 15)\n",
        "min(num)\n",
        "\n",
        "minimum = min(num)\n",
        "print(f\" The minimum number: {minimum}\")"
      ],
      "metadata": {
        "colab": {
          "base_uri": "https://localhost:8080/"
        },
        "id": "25DKneXjhinj",
        "outputId": "6663c6c1-acab-4842-98ca-15e1a7623396"
      },
      "execution_count": null,
      "outputs": [
        {
          "output_type": "stream",
          "name": "stdout",
          "text": [
            " The minimum number: 5\n"
          ]
        }
      ]
    },
    {
      "cell_type": "markdown",
      "source": [
        "**14. Write a code to find the index of the element \"cat\" in the tuple (\"dog\", \"cat\", \"rabbit\").**"
      ],
      "metadata": {
        "id": "oyLi4ngeiv4V"
      }
    },
    {
      "cell_type": "code",
      "source": [
        "animal = (\"dog\", \"cat\", \"rabbit\")\n",
        "find = animal.index(\"cat\")\n",
        "print(f\" The cat element number: {find}\")"
      ],
      "metadata": {
        "colab": {
          "base_uri": "https://localhost:8080/"
        },
        "id": "6U2_TZRMinf8",
        "outputId": "38da63c3-bfc9-43fe-878a-9c47f04dd474"
      },
      "execution_count": null,
      "outputs": [
        {
          "output_type": "stream",
          "name": "stdout",
          "text": [
            " The cat element number: 1\n"
          ]
        }
      ]
    },
    {
      "cell_type": "markdown",
      "source": [
        "**15. Write a code to create a tuple containing three different fruits and checks if \"kiwi\" is in it.**"
      ],
      "metadata": {
        "id": "O7nZ33UQklPZ"
      }
    },
    {
      "cell_type": "code",
      "source": [
        "fruits = (\"banana\", \"kiwi\", \"pineapple\")\n",
        "\n",
        "fruit = \"kiwi\" in fruits\n",
        "print(f\"Yes it is avaiable = {fruit}\")"
      ],
      "metadata": {
        "colab": {
          "base_uri": "https://localhost:8080/"
        },
        "id": "hSmVh8lYj3kE",
        "outputId": "760102f5-d8be-443b-b7dc-fac349041ab5"
      },
      "execution_count": null,
      "outputs": [
        {
          "output_type": "stream",
          "name": "stdout",
          "text": [
            "Yes it is avaiable = True\n"
          ]
        }
      ]
    },
    {
      "cell_type": "markdown",
      "source": [
        "**16. Write a code to create a set with the elements \"a\", \"b\", \"c\" and print.**"
      ],
      "metadata": {
        "id": "v368OeU6l4jc"
      }
    },
    {
      "cell_type": "code",
      "source": [
        "alphabet = {\"a\", \"b\", \"c\"}\n",
        "\n",
        "print(alphabet)\n",
        "print(f\" Type = {type(alphabet)}\")"
      ],
      "metadata": {
        "colab": {
          "base_uri": "https://localhost:8080/"
        },
        "id": "q4CYrvZJlRcV",
        "outputId": "26fa2c47-34ad-49c3-e2ff-6244fe7fce45"
      },
      "execution_count": null,
      "outputs": [
        {
          "output_type": "stream",
          "name": "stdout",
          "text": [
            "{'c', 'b', 'a'}\n",
            " Type = <class 'set'>\n"
          ]
        }
      ]
    },
    {
      "cell_type": "markdown",
      "source": [
        "**17. Write a code to clear all elements from the set {1, 2, 3, 4, 5}.**"
      ],
      "metadata": {
        "id": "J9qwqKzSm4QP"
      }
    },
    {
      "cell_type": "code",
      "source": [
        "num = {1, 2, 3, 4, 5}\n",
        "num.clear()\n",
        "print(num)"
      ],
      "metadata": {
        "colab": {
          "base_uri": "https://localhost:8080/"
        },
        "id": "NbxUr-zFmoe6",
        "outputId": "6b5840db-c4c8-4bdd-a5f1-736228a7a39c"
      },
      "execution_count": null,
      "outputs": [
        {
          "output_type": "stream",
          "name": "stdout",
          "text": [
            "set()\n"
          ]
        }
      ]
    },
    {
      "cell_type": "markdown",
      "source": [
        "**18. Write a code to remove the element 4 from the set {1, 2, 3, 4}.**"
      ],
      "metadata": {
        "id": "nsKJNoNrnab6"
      }
    },
    {
      "cell_type": "code",
      "source": [
        "numbers = {1 ,2, 3, 4}\n",
        "numbers.remove(4)\n",
        "print(f\" The number 4 removed = {numbers}\")"
      ],
      "metadata": {
        "colab": {
          "base_uri": "https://localhost:8080/"
        },
        "id": "jeV2sgX-nVKZ",
        "outputId": "e2e00b54-c430-40ea-c649-20b6d90769d0"
      },
      "execution_count": null,
      "outputs": [
        {
          "output_type": "stream",
          "name": "stdout",
          "text": [
            " The number 4 removed = {1, 2, 3}\n"
          ]
        }
      ]
    },
    {
      "cell_type": "markdown",
      "source": [
        "**19. Write a code to find the union of two sets {1, 2, 3} and {2, 3, 4}.**"
      ],
      "metadata": {
        "id": "6ZMh0WX-I-mp"
      }
    },
    {
      "cell_type": "code",
      "source": [
        "set1 = {1, 2, 3}\n",
        "set2 = {2, 3, 4}\n",
        "\n",
        "union_set = set1.union(set2)\n",
        "\n",
        "print(\"Union of sets:\", union_set)\n"
      ],
      "metadata": {
        "colab": {
          "base_uri": "https://localhost:8080/"
        },
        "id": "IVK-Dr97KF83",
        "outputId": "d3506658-1e65-4f26-dead-18f897e5f257"
      },
      "execution_count": 3,
      "outputs": [
        {
          "output_type": "stream",
          "name": "stdout",
          "text": [
            "Union of sets: {1, 2, 3, 4}\n"
          ]
        }
      ]
    },
    {
      "cell_type": "code",
      "source": [
        "set1 = {1, 2, 3}\n",
        "set2 = {2, 3, 4}\n",
        "\n",
        "set1.union(set2)\n"
      ],
      "metadata": {
        "colab": {
          "base_uri": "https://localhost:8080/"
        },
        "id": "_My8SldFLyFH",
        "outputId": "83890070-f5ef-449e-d27f-c0d1015bc029"
      },
      "execution_count": 2,
      "outputs": [
        {
          "output_type": "execute_result",
          "data": {
            "text/plain": [
              "{1, 2, 3, 4}"
            ]
          },
          "metadata": {},
          "execution_count": 2
        }
      ]
    },
    {
      "cell_type": "code",
      "source": [
        "# another way using '|' operator\n",
        "\n",
        "union_set2 = set1 | set2\n",
        "print(\"Union using | operator:\", union_set2)"
      ],
      "metadata": {
        "colab": {
          "base_uri": "https://localhost:8080/"
        },
        "id": "3QDN5LpcNT2P",
        "outputId": "e13ab41d-ef79-47e0-ebe0-4cdeed7a6cc3"
      },
      "execution_count": 4,
      "outputs": [
        {
          "output_type": "stream",
          "name": "stdout",
          "text": [
            "Union using | operator: {1, 2, 3, 4}\n"
          ]
        }
      ]
    },
    {
      "cell_type": "markdown",
      "source": [
        "**20. Write a code to find the intersection of two sets {1, 2, 3} and {2, 3, 4}**"
      ],
      "metadata": {
        "id": "wlwboATlN6Cw"
      }
    },
    {
      "cell_type": "code",
      "source": [
        "set1 = {1, 2, 3}\n",
        "set2 = {2, 3, 4}\n",
        "\n",
        "set1.intersection(set2)\n"
      ],
      "metadata": {
        "colab": {
          "base_uri": "https://localhost:8080/"
        },
        "id": "lnKVAo0YQeaJ",
        "outputId": "bc69dffa-0e4e-4844-b788-920687bdb9a8"
      },
      "execution_count": 5,
      "outputs": [
        {
          "output_type": "execute_result",
          "data": {
            "text/plain": [
              "{2, 3}"
            ]
          },
          "metadata": {},
          "execution_count": 5
        }
      ]
    },
    {
      "cell_type": "code",
      "source": [
        "# another way\n",
        "\n",
        "intersection_set2 = set1 & set2\n",
        "print(\"using & operator:\", intersection_set2)"
      ],
      "metadata": {
        "colab": {
          "base_uri": "https://localhost:8080/"
        },
        "id": "XvWnW58oQ2PN",
        "outputId": "3045769c-5b38-43ce-eed3-f6d43cec5429"
      },
      "execution_count": 7,
      "outputs": [
        {
          "output_type": "stream",
          "name": "stdout",
          "text": [
            "using & operator: {2, 3}\n"
          ]
        }
      ]
    },
    {
      "cell_type": "markdown",
      "source": [
        "**21. Write a code to create a dicitonary with the keys \"name\", \"age\", and \"city\" and print it.**"
      ],
      "metadata": {
        "id": "itGVDLLsR0aP"
      }
    },
    {
      "cell_type": "code",
      "source": [
        "# create dictionary\n",
        "my_dict = {\"name\": \"Rahul\", \"age\": 22, \"city\": \"Delhi\"}\n",
        "\n",
        "print(\"Dictionary:\", my_dict)\n"
      ],
      "metadata": {
        "colab": {
          "base_uri": "https://localhost:8080/"
        },
        "id": "m9ILT14hSDFX",
        "outputId": "244ddee9-ac51-4082-8a8a-bcb98b5aff25"
      },
      "execution_count": 8,
      "outputs": [
        {
          "output_type": "stream",
          "name": "stdout",
          "text": [
            "Dictionary: {'name': 'Rahul', 'age': 22, 'city': 'Delhi'}\n"
          ]
        }
      ]
    },
    {
      "cell_type": "markdown",
      "source": [
        "**22. Write a code to add a new key-value pair \"country\": \"USA\" to the dictionary {\"name\": \"Jhon\", \"age\",: 25}.**"
      ],
      "metadata": {
        "id": "xvi1_nCcSvBO"
      }
    },
    {
      "cell_type": "code",
      "source": [
        "person = {\"name\": \"John\", \"age\": 25}\n",
        "\n",
        "person[\"country\"] = \"USA\"\n",
        "print(\"Updated Dictionary:\", person)\n"
      ],
      "metadata": {
        "colab": {
          "base_uri": "https://localhost:8080/"
        },
        "id": "mnCplu--SN5N",
        "outputId": "1f1374a3-4e46-4085-d2f2-aa7b69434cd1"
      },
      "execution_count": 10,
      "outputs": [
        {
          "output_type": "stream",
          "name": "stdout",
          "text": [
            "Updated Dictionary: {'name': 'John', 'age': 25, 'country': 'USA'}\n"
          ]
        }
      ]
    },
    {
      "cell_type": "markdown",
      "source": [
        "**23. Write a code to access the value associated with the key \"name\" in the dictionary {\"name\": \"Alice\", \"age\": 30}.**"
      ],
      "metadata": {
        "id": "T_PIjBzregLN"
      }
    },
    {
      "cell_type": "code",
      "source": [
        "person = {\"name\": \"Alice\", \"age\": 30}\n",
        "\n",
        "print(\"Name:\", person[\"name\"])\n"
      ],
      "metadata": {
        "colab": {
          "base_uri": "https://localhost:8080/"
        },
        "id": "5MmsVaKVeXAF",
        "outputId": "0f32ac84-8407-4754-a305-2e0909ef35fd"
      },
      "execution_count": 11,
      "outputs": [
        {
          "output_type": "stream",
          "name": "stdout",
          "text": [
            "Name: Alice\n"
          ]
        }
      ]
    },
    {
      "cell_type": "code",
      "source": [
        "person.get(\"name\")\n"
      ],
      "metadata": {
        "colab": {
          "base_uri": "https://localhost:8080/",
          "height": 35
        },
        "id": "byZ55DyyfXZ0",
        "outputId": "155007ce-15dc-4f1e-d89d-00cbbfd8934e"
      },
      "execution_count": 12,
      "outputs": [
        {
          "output_type": "execute_result",
          "data": {
            "text/plain": [
              "'Alice'"
            ],
            "application/vnd.google.colaboratory.intrinsic+json": {
              "type": "string"
            }
          },
          "metadata": {},
          "execution_count": 12
        }
      ]
    },
    {
      "cell_type": "markdown",
      "source": [
        "**24. Write a code to remove the key \"age\" from the dictionary {\"name\": \"Bob\", \"age\" 22, \"city\": \"New York\"}**"
      ],
      "metadata": {
        "id": "Zub1bqbghJXX"
      }
    },
    {
      "cell_type": "code",
      "source": [
        "person = {\"name\": \"Bob\", \"age\": 22, \"city\": \"New York\"}\n",
        "\n",
        "person.pop(\"age\")\n",
        "print(\"Updated Dictionary:\", person)"
      ],
      "metadata": {
        "colab": {
          "base_uri": "https://localhost:8080/"
        },
        "id": "1VQjrBOnhFOy",
        "outputId": "f97ca305-d999-4d16-d969-c4f12a1fe8b8"
      },
      "execution_count": 13,
      "outputs": [
        {
          "output_type": "stream",
          "name": "stdout",
          "text": [
            "Updated Dictionary: {'name': 'Bob', 'city': 'New York'}\n"
          ]
        }
      ]
    },
    {
      "cell_type": "markdown",
      "source": [
        "**25. Write a code to check if the key \"city\" exists in the dictionary {\"name\": \"Alice\", \"city\": \"Paris\"}.**"
      ],
      "metadata": {
        "id": "Kz1KBLwaiW_A"
      }
    },
    {
      "cell_type": "code",
      "source": [
        "person = {\"name\": \"Alice\", \"city\": \"Paris\"}\n",
        "\n",
        "\"city\" in person"
      ],
      "metadata": {
        "colab": {
          "base_uri": "https://localhost:8080/"
        },
        "id": "4W724Eojh4a3",
        "outputId": "6ef62f33-1b81-497f-8173-aa575701dfab"
      },
      "execution_count": 15,
      "outputs": [
        {
          "output_type": "execute_result",
          "data": {
            "text/plain": [
              "True"
            ]
          },
          "metadata": {},
          "execution_count": 15
        }
      ]
    },
    {
      "cell_type": "code",
      "source": [
        "person = {\"name\": \"Alice\", \"city\": \"Paris\"}\n",
        "\n",
        "if \"city\" in person:\n",
        "    print(\"Key 'city' exists in the dictionary.\")\n",
        "else:\n",
        "    print(\"Key 'city' does not exist in the dictionary.\")"
      ],
      "metadata": {
        "colab": {
          "base_uri": "https://localhost:8080/"
        },
        "id": "9ObkNw2ejEgZ",
        "outputId": "fc8d96ca-e548-41f6-ed7e-944a66992116"
      },
      "execution_count": 16,
      "outputs": [
        {
          "output_type": "stream",
          "name": "stdout",
          "text": [
            "Key 'city' exists in the dictionary.\n"
          ]
        }
      ]
    },
    {
      "cell_type": "markdown",
      "source": [
        "**26. Write a code to create a list, a tuple, and a dictionary, and print them all.**"
      ],
      "metadata": {
        "id": "qTzQcWLqjYoD"
      }
    },
    {
      "cell_type": "code",
      "source": [
        "# create a list\n",
        "\n",
        "my_list = [10, 20, 30, 40]\n",
        "my_tuple = (\"apple\", \"banana\", \"cherry\")\n",
        "my_dict = {\"name\": \"Anand\", \"age\": 25, \"city\": \"Mumbai\"}\n",
        "\n",
        "print(\"List:\", my_list)\n",
        "print(\"Tuple:\", my_tuple)\n",
        "print(\"Dictionary:\", my_dict)\n"
      ],
      "metadata": {
        "colab": {
          "base_uri": "https://localhost:8080/"
        },
        "id": "OfoQihuOjV_B",
        "outputId": "790f8b7b-acbf-4165-e9bc-dabdfc7bad82"
      },
      "execution_count": 17,
      "outputs": [
        {
          "output_type": "stream",
          "name": "stdout",
          "text": [
            "List: [10, 20, 30, 40]\n",
            "Tuple: ('apple', 'banana', 'cherry')\n",
            "Dictionary: {'name': 'Anand', 'age': 25, 'city': 'Mumbai'}\n"
          ]
        }
      ]
    },
    {
      "cell_type": "markdown",
      "source": [
        "**27. Write a code to create a list of 5 random numbers between 1 and 100, sort it in ascending order, and print the result.(replaced)**"
      ],
      "metadata": {
        "id": "rsUwRZbykBrw"
      }
    },
    {
      "cell_type": "code",
      "source": [
        "import random\n",
        "\n",
        "numbers = random.sample(range(1, 101), 5)\n",
        "\n",
        "# sort in ascending order\n",
        "numbers.sort()\n",
        "print(\"Sorted random numbers:\", numbers)\n"
      ],
      "metadata": {
        "colab": {
          "base_uri": "https://localhost:8080/"
        },
        "id": "GVz50V2Fj3y4",
        "outputId": "6622ede5-405c-400a-9e34-abef13fb96c5"
      },
      "execution_count": 18,
      "outputs": [
        {
          "output_type": "stream",
          "name": "stdout",
          "text": [
            "Sorted random numbers: [9, 25, 70, 71, 98]\n"
          ]
        }
      ]
    },
    {
      "cell_type": "markdown",
      "source": [
        "**28. Write a code to create a list with strings and print the element at the third index.**"
      ],
      "metadata": {
        "id": "denltWYJlfsz"
      }
    },
    {
      "cell_type": "code",
      "source": [
        "fruits = [\"apple\", \"banana\", \"cherry\", \"mango\", \"orange\"]\n",
        "print(\"Element at third index:\", fruits[3])"
      ],
      "metadata": {
        "colab": {
          "base_uri": "https://localhost:8080/"
        },
        "id": "HjvT4WQmlcss",
        "outputId": "04073f0c-f570-478c-fe56-5500fad229e3"
      },
      "execution_count": 21,
      "outputs": [
        {
          "output_type": "stream",
          "name": "stdout",
          "text": [
            "Element at third index: mango\n"
          ]
        }
      ]
    },
    {
      "cell_type": "code",
      "source": [
        "fruits = [\"apple\", \"banana\", \"cherry\", \"mango\", \"orange\"]\n",
        "fruits[3]"
      ],
      "metadata": {
        "colab": {
          "base_uri": "https://localhost:8080/",
          "height": 35
        },
        "id": "_H4SI4OnmK7q",
        "outputId": "148bd06f-5311-46dc-eeb6-878a1a9f892f"
      },
      "execution_count": 22,
      "outputs": [
        {
          "output_type": "execute_result",
          "data": {
            "text/plain": [
              "'mango'"
            ],
            "application/vnd.google.colaboratory.intrinsic+json": {
              "type": "string"
            }
          },
          "metadata": {},
          "execution_count": 22
        }
      ]
    },
    {
      "cell_type": "markdown",
      "source": [
        "**29. Write a code to combine two dictionaries into one and print the result.**"
      ],
      "metadata": {
        "id": "fDWhHf81mhPT"
      }
    },
    {
      "cell_type": "code",
      "source": [
        "dict1 = {\"a\": 1, \"b\": 2}\n",
        "dict2 = {\"c\": 3, \"d\": 4}\n",
        "\n",
        "combined = {**dict1, **dict2}\n",
        "\n",
        "print(combined)\n"
      ],
      "metadata": {
        "colab": {
          "base_uri": "https://localhost:8080/"
        },
        "id": "X65kYhqDmWDe",
        "outputId": "677bf732-d9fe-48a9-b84f-aa1578163f9f"
      },
      "execution_count": 23,
      "outputs": [
        {
          "output_type": "stream",
          "name": "stdout",
          "text": [
            "{'a': 1, 'b': 2, 'c': 3, 'd': 4}\n"
          ]
        }
      ]
    },
    {
      "cell_type": "code",
      "source": [
        "dict1.update(dict2)\n",
        "print(dict1)"
      ],
      "metadata": {
        "colab": {
          "base_uri": "https://localhost:8080/"
        },
        "id": "E0yOtcEunA61",
        "outputId": "406e5b24-c45a-4642-f982-3e4aad9f28b5"
      },
      "execution_count": 26,
      "outputs": [
        {
          "output_type": "stream",
          "name": "stdout",
          "text": [
            "{'a': 1, 'b': 2, 'c': 3, 'd': 4}\n"
          ]
        }
      ]
    },
    {
      "cell_type": "markdown",
      "source": [
        "**30. Write a code to covert a list of stings into a set.**"
      ],
      "metadata": {
        "id": "s-htNlRsnbhK"
      }
    },
    {
      "cell_type": "code",
      "source": [
        "my_list = [\"apple\", \"banana\", \"cherry\", \"apple\", \"banana\"]\n",
        "\n",
        "my_set = set(my_list)\n",
        "\n",
        "print(\"Original List:\", my_list)\n",
        "print(\"Converted Set:\", my_set)\n"
      ],
      "metadata": {
        "colab": {
          "base_uri": "https://localhost:8080/"
        },
        "id": "Ki0a6N4UnLj2",
        "outputId": "95edd788-04bc-4691-a0b3-baaaa1c86249"
      },
      "execution_count": 27,
      "outputs": [
        {
          "output_type": "stream",
          "name": "stdout",
          "text": [
            "Original List: ['apple', 'banana', 'cherry', 'apple', 'banana']\n",
            "Converted Set: {'cherry', 'apple', 'banana'}\n"
          ]
        }
      ]
    }
  ]
}